{
  "nbformat": 4,
  "nbformat_minor": 0,
  "metadata": {
    "colab": {
      "name": "Coupon",
      "provenance": [],
      "mount_file_id": "1cXqeQ0XR2W4VmP5xMkyxK4hZMVILKmDd",
      "authorship_tag": "ABX9TyPVuKGTf0jcM+r7exWEUqQm",
      "include_colab_link": true
    },
    "kernelspec": {
      "name": "python3",
      "display_name": "Python 3"
    }
  },
  "cells": [
    {
      "cell_type": "markdown",
      "metadata": {
        "id": "view-in-github",
        "colab_type": "text"
      },
      "source": [
        "<a href=\"https://colab.research.google.com/github/sailTo/homework/blob/master/Coupon.ipynb\" target=\"_parent\"><img src=\"https://colab.research.google.com/assets/colab-badge.svg\" alt=\"Open In Colab\"/></a>"
      ]
    },
    {
      "cell_type": "markdown",
      "metadata": {
        "id": "rV-R34kdGu2P"
      },
      "source": [
        "# Counpon"
      ]
    },
    {
      "cell_type": "markdown",
      "metadata": {
        "id": "nsNVhVr1kbhx"
      },
      "source": [
        "- Combine offline & online prediction\r\n",
        "- transfer learning & Bayesian Network\r\n",
        "- linear discriminant analysis"
      ]
    },
    {
      "cell_type": "code",
      "metadata": {
        "colab": {
          "base_uri": "https://localhost:8080/"
        },
        "id": "rfM9Tq7fB1zo",
        "outputId": "7b509ea0-60d0-4be2-88cc-fa23150577f5"
      },
      "source": [
        "from google.colab import drive\n",
        "drive.mount('/content/drive')"
      ],
      "execution_count": null,
      "outputs": [
        {
          "output_type": "stream",
          "text": [
            "Mounted at /content/drive\n"
          ],
          "name": "stdout"
        }
      ]
    },
    {
      "cell_type": "code",
      "metadata": {
        "id": "nSr3Wi4p_e06"
      },
      "source": [
        "import pandas as pd\n",
        "import numpy as np\n",
        "offline = pd.read_csv('/content/drive/Shareddrives/ubox/ccf_offline_stage1_train.csv')\n",
        "online = pd.read_csv('/content/drive/Shareddrives/ubox/ccf_online_stage1_train.csv')\n",
        "offline_test = pd.read_csv('/content/drive/Shareddrives/ubox/ccf_offline_stage1_test_revised.csv')"
      ],
      "execution_count": 1,
      "outputs": []
    },
    {
      "cell_type": "code",
      "metadata": {
        "colab": {
          "base_uri": "https://localhost:8080/"
        },
        "id": "sKoVNUbAeWEs",
        "outputId": "199594ef-bff4-4f71-ca32-407c902806d9"
      },
      "source": [
        "offline[:5],online[:5]"
      ],
      "execution_count": 3,
      "outputs": [
        {
          "output_type": "execute_result",
          "data": {
            "text/plain": [
              "(   User_id  Merchant_id  Coupon_id  ... Distance  Date_received        Date\n",
              " 0  1439408         2632        NaN  ...      0.0            NaN  20160217.0\n",
              " 1  1439408         4663    11002.0  ...      1.0     20160528.0         NaN\n",
              " 2  1439408         2632     8591.0  ...      0.0     20160217.0         NaN\n",
              " 3  1439408         2632     1078.0  ...      0.0     20160319.0         NaN\n",
              " 4  1439408         2632     8591.0  ...      0.0     20160613.0         NaN\n",
              " \n",
              " [5 rows x 7 columns],\n",
              "     User_id  Merchant_id  Action  ... Discount_rate Date_received        Date\n",
              " 0  13740231        18907       2  ...        500:50    20160513.0         NaN\n",
              " 1  13740231        34805       1  ...           NaN           NaN  20160321.0\n",
              " 2  14336199        18907       0  ...           NaN           NaN  20160618.0\n",
              " 3  14336199        18907       0  ...           NaN           NaN  20160618.0\n",
              " 4  14336199        18907       0  ...           NaN           NaN  20160618.0\n",
              " \n",
              " [5 rows x 7 columns])"
            ]
          },
          "metadata": {
            "tags": []
          },
          "execution_count": 3
        }
      ]
    },
    {
      "cell_type": "markdown",
      "metadata": {
        "id": "iITmBC5kw_Si"
      },
      "source": [
        "Above is some examples of the offline & online data"
      ]
    },
    {
      "cell_type": "code",
      "metadata": {
        "id": "ZBYxXvL5690k"
      },
      "source": [
        "from datetime import date\r\n",
        "def float_to_mmdd(dataframe):\r\n",
        "    d1,d2 = dataframe['Date_received'],dataframe['Date']\r\n",
        "    d1,d2 = d1%10000,d2%10000\r\n",
        "    dates1 = []\r\n",
        "    dates2 = []\r\n",
        "    dates3 = []\r\n",
        "    for x,y in zip(d1.to_list(),d2.to_list()):\r\n",
        "        if x==0:\r\n",
        "            dates1.append(x)\r\n",
        "            if y==0:\r\n",
        "                dates2.append(y)\r\n",
        "                dates3.append(-1)\r\n",
        "            else:\r\n",
        "                date_y = date(2016,int(y//100),int(y%100))\r\n",
        "                dates2.append(date_y)\r\n",
        "                dates3.append(365)\r\n",
        "        elif y==0:\r\n",
        "            date_x = date(2016,int(x//100),int(x%100))\r\n",
        "            dates1.append(date_x)\r\n",
        "            dates2.append(y)\r\n",
        "            dates3.append(-365)\r\n",
        "        else:\r\n",
        "            date_x = date(2016,int(x//100),int(x%100))\r\n",
        "            dates1.append(date_x)\r\n",
        "            date_y = date(2016,int(y//100),int(y%100))\r\n",
        "            dates2.append(date_y)\r\n",
        "            dates3.append(abs((date_y-date_x).days))\r\n",
        "    dspd1 = pd.DataFrame(data=dates1,columns=['received_date'])\r\n",
        "    dspd2 = pd.DataFrame(data=dates2,columns=['used_date'])\r\n",
        "    dspd3 = pd.DataFrame(data=dates3,columns=['hold_days'])\r\n",
        "    dataframe = dataframe.join(dspd1)\r\n",
        "    dataframe = dataframe.join(dspd2)\r\n",
        "    dataframe = dataframe.join(dspd3)\r\n",
        "    dataframe = dataframe.drop(columns = ['Date_received','Date'])\r\n",
        "    return dataframe\r\n",
        "online = float_to_mmdd(online.fillna(0))\r\n",
        "offline = float_to_mmdd(offline.fillna(0))"
      ],
      "execution_count": 18,
      "outputs": []
    },
    {
      "cell_type": "code",
      "metadata": {
        "colab": {
          "base_uri": "https://localhost:8080/",
          "height": 285
        },
        "id": "7X-ywuZ396Wh",
        "outputId": "e1c9ef8a-6340-484e-a6f7-2b8ad467f753"
      },
      "source": [
        "online[(online['hold_days']>=2)&(online['hold_days']<20)]['hold_days'].value_counts().plot()"
      ],
      "execution_count": 18,
      "outputs": [
        {
          "output_type": "execute_result",
          "data": {
            "text/plain": [
              "<matplotlib.axes._subplots.AxesSubplot at 0x7f2852bca908>"
            ]
          },
          "metadata": {
            "tags": []
          },
          "execution_count": 18
        },
        {
          "output_type": "display_data",
          "data": {
            "image/png": "[encoded data removed]",
            "text/plain": [
              "<Figure size 432x288 with 1 Axes>"
            ]
          },
          "metadata": {
            "tags": [],
            "needs_background": "light"
          }
        }
      ]
    },
    {
      "cell_type": "markdown",
      "metadata": {
        "id": "OiUnzWwLVbm2"
      },
      "source": [
        "From here we know that the distribution ofthe hold days is like exponential distribution."
      ]
    },
    {
      "cell_type": "code",
      "metadata": {
        "id": "7hLJPUjbf1_v"
      },
      "source": [
        "def getWeekday(row):\r\n",
        "    if type(row)==type(0.0):\r\n",
        "        return row\r\n",
        "    else:\r\n",
        "        return row.weekday() + 1\r\n",
        "\r\n",
        "online['recieved_weekday'] = online['received_date'].apply(getWeekday)\r\n",
        "online['used_weekday'] = online['used_date'].apply(getWeekday)\r\n",
        "\r\n",
        "offline['recieved_weekday'] = offline['received_date'].apply(getWeekday)\r\n",
        "offline['used_weekday'] = offline['used_date'].apply(getWeekday)"
      ],
      "execution_count": 19,
      "outputs": []
    },
    {
      "cell_type": "code",
      "metadata": {
        "colab": {
          "base_uri": "https://localhost:8080/"
        },
        "id": "mpeNQSLPgvPs",
        "outputId": "d1ad60f3-b19d-4b7c-f94d-29107967dffa"
      },
      "source": [
        "offline['used_weekday'][(offline['used_weekday']>=1)&(offline['used_weekday']<8)].value_counts()"
      ],
      "execution_count": 20,
      "outputs": [
        {
          "output_type": "execute_result",
          "data": {
            "text/plain": [
              "6.0    117828\n",
              "5.0    117232\n",
              "7.0    113983\n",
              "4.0    109596\n",
              "3.0    107712\n",
              "2.0    105472\n",
              "1.0    105161\n",
              "Name: used_weekday, dtype: int64"
            ]
          },
          "metadata": {
            "tags": []
          },
          "execution_count": 20
        }
      ]
    },
    {
      "cell_type": "code",
      "metadata": {
        "colab": {
          "base_uri": "https://localhost:8080/"
        },
        "id": "wFhXZsBvh4GO",
        "outputId": "1cd5f113-7b88-4325-b3fd-9348e90c5922"
      },
      "source": [
        "online['recieved_weekday'][(online['recieved_weekday']>=1)&(online['recieved_weekday']<8)].value_counts()"
      ],
      "execution_count": 16,
      "outputs": [
        {
          "output_type": "execute_result",
          "data": {
            "text/plain": [
              "1.0    133537\n",
              "3.0    129197\n",
              "2.0    123049\n",
              "5.0    122775\n",
              "4.0    122581\n",
              "6.0    120616\n",
              "7.0    120602\n",
              "Name: recieved_weekday, dtype: int64"
            ]
          },
          "metadata": {
            "tags": []
          },
          "execution_count": 16
        }
      ]
    },
    {
      "cell_type": "markdown",
      "metadata": {
        "id": "9s38qHAHAG1k"
      },
      "source": [
        "From here we know that, without considering the difference between the days, the newer coupons always have a greater chance to be used."
      ]
    },
    {
      "cell_type": "code",
      "metadata": {
        "colab": {
          "base_uri": "https://localhost:8080/"
        },
        "id": "DPnYy3lNGIl-",
        "outputId": "d5d1d4ee-4e8a-47f2-da81-4331b0c4eb39"
      },
      "source": [
        "print('field:\\toffline:\\tonline:')\n",
        "for i in ['User_id','Merchant_id','Coupon_id','Discount_rate']:\n",
        "    print(i,'\\t',online[i].value_counts().shape,'\\t',offline[i].value_counts().shape)\n",
        "for i in ['Date_received','Date']:\n",
        "    on,off = online[i].unique(),offline[i].unique()\n",
        "    print('min'+i,min(on[~np.isnan(on)]),min(off[~np.isnan(off)]),sep='\\t')\n",
        "    print('max'+i,max(on[~np.isnan(on)]),max(off[~np.isnan(off)]),sep='\\t')\n",
        "print('total number:',online.shape,'\\t',offline.shape)"
      ],
      "execution_count": 49,
      "outputs": [
        {
          "output_type": "stream",
          "text": [
            "field:\toffline:\tonline:\n",
            "User_id \t (762858,) \t (539438,)\n",
            "Merchant_id \t (7999,) \t (8415,)\n",
            "Coupon_id \t (27747,) \t (9738,)\n",
            "Discount_rate \t (64,) \t (45,)\n",
            "minDate_received\t20160101.0\t20160101.0\n",
            "maxDate_received\t20160615.0\t20160615.0\n",
            "minDate\t20160101.0\t20160101.0\n",
            "maxDate\t20160630.0\t20160630.0\n",
            "nan nan\n",
            "total number: (11429826, 7) \t (1754884, 7)\n"
          ],
          "name": "stdout"
        }
      ]
    },
    {
      "cell_type": "code",
      "metadata": {
        "colab": {
          "base_uri": "https://localhost:8080/"
        },
        "id": "PctAHtYgrTMm",
        "outputId": "b9054c2c-c634-46e5-933e-14a6b51aa906"
      },
      "source": [
        "print('field\\tonline\\toffline\\tsum\\tcombine\\trepeat_rate')\r\n",
        "for i in ['User_id','Merchant_id']:\r\n",
        "    n =np.unique(np.concatenate((offline[i].unique(),online[i].unique()),axis = None))\r\n",
        "    on,off = online[i].value_counts().shape[0],offline[i].value_counts().shape[0]\r\n",
        "    print(i,on,off,on+off,len(n),round(1-len(n)/(on+off),4),sep = '\\t')"
      ],
      "execution_count": 31,
      "outputs": [
        {
          "output_type": "stream",
          "text": [
            "field\tonline\toffline\tsum\tcombine\trepeat_rate\n",
            "User_id\t762858\t539438\t1302296\t1034848\t0.2054\n",
            "Merchant_id\t7999\t8415\t16414\t16414\t0.0\n"
          ],
          "name": "stdout"
        }
      ]
    },
    {
      "cell_type": "markdown",
      "metadata": {
        "id": "ZKv_xOhLv97h"
      },
      "source": [
        "From here we can know that there are about *20%* users that uses both the online and offline service, while there are not common merchant in the 2 database."
      ]
    },
    {
      "cell_type": "code",
      "metadata": {
        "colab": {
          "base_uri": "https://localhost:8080/"
        },
        "id": "KlkvRcjD4FoU",
        "outputId": "078b158d-ab61-496b-b0ec-f2d6867f0912"
      },
      "source": [
        "nonna = online[['Date_received','Date']].dropna()\r\n",
        "print(nonna['Date']-nonna['Date_received'])\r\n",
        "# delta_Date = nonna['Date']-nonna['Date_received']\r\n",
        "# delta_Date.value_counts()"
      ],
      "execution_count": 64,
      "outputs": [
        {
          "output_type": "stream",
          "text": [
            "519.0\n"
          ],
          "name": "stdout"
        }
      ]
    }
  ]
}