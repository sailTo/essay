{
  "nbformat": 4,
  "nbformat_minor": 0,
  "metadata": {
    "colab": {
      "name": "V1.0.ipynb",
      "provenance": [],
      "collapsed_sections": [],
      "mount_file_id": "1jdgPA7DZCQQYNM7D-M96DFiJZI_MyyOy",
      "authorship_tag": "ABX9TyMeK4KZl5/8RkmyqR5vk7bk",
      "include_colab_link": true
    },
    "kernelspec": {
      "name": "python3",
      "display_name": "Python 3"
    }
  },
  "cells": [
    {
      "cell_type": "markdown",
      "metadata": {
        "id": "view-in-github",
        "colab_type": "text"
      },
      "source": [
        "<a href=\"https://colab.research.google.com/github/sailTo/essay/blob/master/V1_0.ipynb\" target=\"_parent\"><img src=\"https://colab.research.google.com/assets/colab-badge.svg\" alt=\"Open In Colab\"/></a>"
      ]
    },
    {
      "cell_type": "code",
      "metadata": {
        "id": "8LrIa9oaWjok",
        "colab": {
          "base_uri": "https://localhost:8080/"
        },
        "outputId": "8730a1f1-d7e3-49c4-acce-8e149ca676f7"
      },
      "source": [
        "import os, sys, pickle\r\n",
        "import numpy as np\r\n",
        "import pandas as pd\r\n",
        "import matplotlib.pyplot as plt\r\n",
        "from datetime import date\r\n",
        "from sklearn.linear_model import SGDClassifier, LogisticRegression\r\n",
        "\r\n",
        "dfoff = pd.read_csv('/content/drive/Shareddrives/ubox/ccf_offline_stage1_train.csv')\r\n",
        "dftest = pd.read_csv('/content/drive/Shareddrives/ubox/ccf_offline_stage1_test_revised.csv')\r\n",
        "dfon = pd.read_csv('/content/drive/Shareddrives/ubox/ccf_online_stage1_train.csv')\r\n",
        "print('All data are read.')"
      ],
      "execution_count": null,
      "outputs": [
        {
          "output_type": "stream",
          "text": [
            "All data are read.\n"
          ],
          "name": "stdout"
        }
      ]
    },
    {
      "cell_type": "code",
      "metadata": {
        "id": "c8o2pJt78Bqq"
      },
      "source": [
        "def float_to_datetime(row):\r\n",
        "    if row != 'nan': return date(int(row[0:4]), int(row[4:6]), int(row[6:8]))\r\n",
        "    else: return np.nan\r\n",
        "\r\n",
        "dfoff['Date_received'] = dfoff['Date_received'].astype(str).apply(float_to_datetime)\r\n",
        "dftest['Date_received'] = dftest['Date_received'].astype(str).apply(float_to_datetime)\r\n",
        "dfoff['Date'] = dfoff['Date'].astype(str).apply(float_to_datetime)\r\n"
      ],
      "execution_count": null,
      "outputs": []
    },
    {
      "cell_type": "code",
      "metadata": {
        "id": "JiuTj9MKwrJN"
      },
      "source": [
        "def get_offline_features(X, offline):\r\n",
        "    # X = X[:1000]\r\n",
        "\r\n",
        "    print(len(X), len(X.columns))\r\n",
        "\r\n",
        "    coupon_id_notnull = offline[offline.Coupon_id.notnull()]\r\n",
        "\r\n",
        "    temp = coupon_id_notnull\r\n",
        "    coupon_consume = temp[temp.Date.notnull()]\r\n",
        "    coupon_no_consume = temp[temp.Date.isnull()]\r\n",
        "\r\n",
        "    user_coupon_consume = coupon_consume.groupby('User_id')\r\n",
        "\r\n",
        "    '''user features'''\r\n",
        "\r\n",
        "    # 用户优惠券消费次数\r\n",
        "    temp = user_coupon_consume.size().reset_index(name='u2')\r\n",
        "    X = pd.merge(X, temp, how='left', on='User_id')\r\n",
        "    X.u2 = X.u2.fillna(0)\r\n",
        "\r\n",
        "    # 用户优惠券不消费次数\r\n",
        "    temp = coupon_no_consume.groupby('User_id').size().reset_index(name='u3')\r\n",
        "    X = pd.merge(X, temp, how='left', on='User_id')\r\n",
        "\r\n",
        "    # 用户优惠券消费与不消费次数比值\r\n",
        "    X['u19'] = X.u2 / X.u3\r\n",
        "\r\n",
        "    # 用户领取优惠券次数\r\n",
        "    X['u1'] = X.u2.fillna(0) + X.u3.fillna(0)\r\n",
        "\r\n",
        "    # 用户优惠券使用率\r\n",
        "    X['u4'] = X.u2 / X.u1\r\n",
        "    X.u4 = X.u4.fillna(sum(X.u4.fillna(0))/sum(X.u4.notnull()))\r\n",
        "\r\n",
        "    # 用户普通消费次数\r\n",
        "    date_received_isnull_date_notnull = offline[offline.Date_received.isnull() & offline.Date.notnull()]\r\n",
        "\r\n",
        "    temp = date_received_isnull_date_notnull.groupby('User_id').size().reset_index(name='u5')\r\n",
        "    X = pd.merge(X, temp, how='left', on='User_id')\r\n",
        "    print(X.columns)\r\n",
        "    X.u5 = X.u5.fillna(sum(X.u5.fillna(0))/sum(X.u5.notnull()))\r\n",
        "\r\n",
        "    # 用户优惠券消费和普通消费次数\r\n",
        "    X['u25'] = X.u2 + X.u5\r\n",
        "\r\n",
        "    # 用户使用优惠券消费占比\r\n",
        "    X['u20'] = X.u2 / X.u25\r\n",
        "    X.u20 = X.u20.fillna(sum(X.u20.fillna(0))/sum(X.u20.notnull()))\r\n",
        "\r\n",
        "    # 用户领取所有不同优惠券数量\r\n",
        "    date_received_notnull = offline[offline.Date_received.notnull()]\r\n",
        "    temp = date_received_notnull\r\n",
        "    temp = temp.groupby(['User_id', 'Coupon_id']).size().reset_index(name='u47')\r\n",
        "    X = pd.merge(X, temp, how='left', on=['User_id', 'Coupon_id'])\r\n",
        "\r\n",
        "    # 核销优惠券用户-商家平均距离 fill_avg\r\n",
        "    temp = offline[offline.Coupon_id.notnull() & offline.Date.notnull() & offline.Distance.notnull()]\r\n",
        "    temp = temp.groupby('User_id').Distance\r\n",
        "    temp = pd.merge(temp.count().reset_index(name='x'), temp.sum().reset_index(name='y'), on='User_id')\r\n",
        "    temp['u35'] = temp.y / temp.x\r\n",
        "    temp = temp[['User_id', 'u35']]\r\n",
        "    X = pd.merge(X, temp, how='left', on='User_id')\r\n",
        "    X.u35=X.u35.fillna(sum(X.u35.fillna(0))/sum(X.u35.notnull()))\r\n",
        "\r\n",
        "    # 用户核销优惠券中的最小用户-商家距离\r\n",
        "    temp = coupon_consume[coupon_consume.Distance.notnull()]\r\n",
        "    temp = temp.groupby('User_id').Distance.min().reset_index(name='u36')\r\n",
        "    X = pd.merge(X, temp, how='left', on='User_id')\r\n",
        "    X.u36=X.u36.fillna(sum(X.u36.fillna(0))/sum(X.u36.notnull()))\r\n",
        "\r\n",
        "    # 用户核销优惠券中的最大用户-商家距离\r\n",
        "    temp = coupon_consume[coupon_consume.Distance.notnull()]\r\n",
        "    temp = temp.groupby('User_id').Distance.max().reset_index(name='u37')\r\n",
        "    X = pd.merge(X, temp, how='left', on='User_id')\r\n",
        "    X.u37=X.u37.fillna(sum(X.u37.fillna(0))/sum(X.u37.notnull()))\r\n",
        "\r\n",
        "    # 优惠券类型\r\n",
        "    discount_types = [\r\n",
        "        '0.2', '0.5', '0.6', '0.7', '0.75', '0.8', '0.85', '0.9', '0.95', '30:20', '50:30', '10:5',\r\n",
        "        '20:10', '100:50', '200:100', '50:20', '30:10', '150:50', '100:30', '20:5', '200:50', '5:1',\r\n",
        "        '50:10', '100:20', '150:30', '30:5', '300:50', '200:30', '150:20', '10:1', '50:5', '100:10',\r\n",
        "        '200:20', '300:30', '150:10', '300:20', '500:30', '20:1', '100:5', '200:10', '30:1', '150:5',\r\n",
        "        '300:10', '200:5', '50:1', '100:1',\r\n",
        "    ]\r\n",
        "    X['discount_type'] = -1\r\n",
        "    for k, v in enumerate(discount_types):\r\n",
        "        X.loc[X.Discount_rate == v, 'discount_type'] = k\r\n",
        "\r\n",
        "    '''offline merchant features'''\r\n",
        "\r\n",
        "    # 商家销售次数\r\n",
        "    temp = offline[offline.Date.notnull()].groupby('Merchant_id').size().reset_index(name='m0')\r\n",
        "    X = pd.merge(X, temp, how='left', on='Merchant_id')\r\n",
        "\r\n",
        "    # 商家优惠券核销次数\r\n",
        "    temp = coupon_consume.groupby('Merchant_id').size().reset_index(name='m1')\r\n",
        "    X = pd.merge(X, temp, how='left', on='Merchant_id')\r\n",
        "\r\n",
        "    # 商家普通销售次数\r\n",
        "    X['m2'] = X.m0.fillna(0) - X.m1.fillna(0)\r\n",
        "\r\n",
        "    # 商家优惠券被领取次数\r\n",
        "    temp = date_received_notnull.groupby('Merchant_id').size().reset_index(name='m3')\r\n",
        "    X = pd.merge(X, temp, how='left', on='Merchant_id')\r\n",
        "\r\n",
        "    # 商家优惠券核销率\r\n",
        "    X['m4'] = X.m1 / X.m3\r\n",
        "    X.m4=X.m4.fillna(sum(X.m4.fillna(0))/sum(X.m4.notnull()))\r\n",
        "\r\n",
        "\r\n",
        "    # 商家在数据集中出现的次数\r\n",
        "    temp = offline.groupby('Merchant_id').size().reset_index(name='m16')\r\n",
        "    X = pd.merge(X, temp, how='left', on='Merchant_id')\r\n",
        "\r\n",
        "    # 商家被核销优惠券的平均时间\r\n",
        "    temp = pd.merge(coupon_consume, coupon_consume.groupby('Merchant_id').Date.max().reset_index(name='_max'))\r\n",
        "    temp = pd.merge(temp, temp.groupby('Merchant_id').Date.min().reset_index(name='_min'))\r\n",
        "    temp = pd.merge(temp, temp.groupby('Merchant_id').size().reset_index(name='_len'))\r\n",
        "    temp['m20'] = (temp._max - temp._min).dt.days / (temp._len - 1)\r\n",
        "    temp.drop_duplicates('Merchant_id', inplace=True)\r\n",
        "    X = pd.merge(X, temp[['Merchant_id', 'm20']], how='left', on='Merchant_id')\r\n",
        "    X.m20 = X.m20.fillna(sum(X.m20.fillna(0))/sum(X.m20.notnull()))\r\n",
        "\r\n",
        "    # 商家被核销优惠券中的用户平均距离\r\n",
        "    temp = coupon_consume[coupon_consume.Distance.notnull()].groupby('Merchant_id').Distance\r\n",
        "    temp = pd.merge(temp.count().reset_index(name='x'), temp.sum().reset_index(name='y'), on='Merchant_id')\r\n",
        "    temp['m21'] = temp.y / temp.x\r\n",
        "    temp = temp[['Merchant_id', 'm21']]\r\n",
        "    X = pd.merge(X, temp, how='left', on='Merchant_id')\r\n",
        "    X.m21=X.m21.fillna(sum(X.m21.fillna(0))/sum(X.m21.notnull()))\r\n",
        "\r\n",
        "    \"\"\"offline coupon features\"\"\"\r\n",
        "\r\n",
        "    # 每种优惠券领取次数\r\n",
        "    temp = coupon_id_notnull.groupby('Coupon_id').size().reset_index(name='c1')\r\n",
        "    X = pd.merge(X, temp, how='left', on='Coupon_id')\r\n",
        "    X.c1=X.c1.fillna(0)\r\n",
        "\r\n",
        "    # 每种优惠券使用次数\r\n",
        "    temp = coupon_consume.groupby('Coupon_id').size().reset_index(name='c2')\r\n",
        "    X = pd.merge(X, temp, how='left', on='Coupon_id')\r\n",
        "    X.c2 = X.c2.fillna(0)\r\n",
        "\r\n",
        "    # 优惠券使用率\r\n",
        "    X['c3'] = X.c2 / X.c1\r\n",
        "    X.drop(['c1','c2'],axis=1)\r\n",
        "    X.c3 = X.c3.fillna(sum(X.c3.fillna(0))/sum(X.c3.notnull()))\r\n",
        "\r\n",
        "    # 优惠券类型(直接优惠为0, 满减为1)\r\n",
        "    X['c6'] = 0 \r\n",
        "    X.loc[X.Discount_rate.str.contains(':') == True, 'c6'] = 1\r\n",
        "\r\n",
        "    # 每种优惠券核销的平均时间\r\n",
        "    temp = pd.merge(coupon_consume, coupon_consume.groupby('Coupon_id').Date.max().reset_index(name='_max'))\r\n",
        "    temp = pd.merge(temp, temp.groupby('Coupon_id').Date.min().reset_index(name='_min'))\r\n",
        "    temp = pd.merge(temp, temp.groupby('Coupon_id').size().reset_index(name='_len'))\r\n",
        "    temp['c12'] = (temp._max - temp._min).dt.days / (temp._len - 1)\r\n",
        "    temp.drop_duplicates('Coupon_id', inplace=True)\r\n",
        "    X = pd.merge(X, temp[['Coupon_id', 'c12']], how='left', on='Coupon_id')\r\n",
        "    X.c12=X.c12.fillna(sum(X.c12.fillna(0))/sum(X.c12.notnull()))\r\n",
        "\r\n",
        "    '''user merchant feature'''\r\n",
        "\r\n",
        "    # 用户领取商家的优惠券次数\r\n",
        "    temp = coupon_id_notnull\r\n",
        "    temp = temp.groupby(['User_id', 'Merchant_id']).size().reset_index(name='um1')\r\n",
        "    X = pd.merge(X, temp, how='left', on=['User_id', 'Merchant_id'])\r\n",
        "    X.um1 = X.um1.fillna(0)\r\n",
        "\r\n",
        "    # 用户领取商家的优惠券后核销次数\r\n",
        "    temp = coupon_consume.groupby(['User_id', 'Merchant_id']).size().reset_index(name='um3')\r\n",
        "    X = pd.merge(X, temp, how='left', on=['User_id', 'Merchant_id'])\r\n",
        "    X.um3 = X.um3.fillna(0)\r\n",
        "\r\n",
        "    # 用户领取商家的优惠券后核销率\r\n",
        "    X['um4'] = X.um3 / X.um1\r\n",
        "    X.um4=X.um4.fillna(sum(X.um4.fillna(0))/sum(X.um4.notnull()))\r\n",
        "    \r\n",
        "    '''other feature'''\r\n",
        "\r\n",
        "    # 用户领取优惠券次数\r\n",
        "    temp = X.groupby('User_id').size().reset_index(name='o1')\r\n",
        "    X = pd.merge(X, temp, how='left', on='User_id')\r\n",
        "    X.o1 = X.o1.fillna(sum(X.o1.fillna(0))/sum(X.o1.notnull()))\r\n",
        "    \r\n",
        "    print(len(X), len(X.columns))\r\n",
        "\r\n",
        "    return X\r\n",
        "\r\n",
        "\r\n",
        "def get_online_features(X, online):\r\n",
        "    # temp = online[online.Coupon_id == online.Coupon_id]\r\n",
        "    # coupon_consume = temp[temp.Date == temp.Date]\r\n",
        "    # coupon_no_consume = temp[temp.Date != temp.Date]\r\n",
        "\r\n",
        "    # 用户操作次数\r\n",
        "    temp = online.groupby('User_id').size().reset_index(name='on_u1')\r\n",
        "    X = pd.merge(X, temp, how='left', on='User_id')\r\n",
        "    X.on_u1 = X.on_u1.fillna(sum(X.u37.fillna(0))/sum(X.u37.notnull()))\r\n",
        "\r\n",
        "    # 用户点击次数\r\n",
        "    temp = online[online.Action == 0].groupby('User_id').size().reset_index(name='on_u2')\r\n",
        "    X = pd.merge(X, temp, how='left', on='User_id')\r\n",
        "    X.on_u2 = X.on_u2.fillna(0)\r\n",
        "\r\n",
        "    # 用户点击率\r\n",
        "    X['on_u3'] = X.on_u2 / X.on_u1\r\n",
        "    X.on_u3 = X.on_u3.fillna(0)\r\n",
        "\r\n",
        "    # 用户购买次数\r\n",
        "    temp = online[online.Action == 1].groupby('User_id').size().reset_index(name='on_u4')\r\n",
        "    X = pd.merge(X, temp, how='left', on='User_id')\r\n",
        "    X.on_u4 = X.on_u4.fillna(0)\r\n",
        "\r\n",
        "    # 用户线上购买率\r\n",
        "    X['on_u5'] = X.on_u4 / X.on_u1\r\n",
        "    X.on_u5 = X.on_u5.fillna(0)\r\n",
        "\r\n",
        "    # 用户领取优惠券次数\r\n",
        "    temp = online[online.Date_received.notnull()].groupby('User_id').size().reset_index(name='on_u6')\r\n",
        "    X = pd.merge(X, temp, how='left', on='User_id')\r\n",
        "    X.on_u6 = X.on_u6.fillna(0)\r\n",
        "\r\n",
        "    # 用户优惠券领取率\r\n",
        "    X['on_u7'] = X.on_u6 / X.on_u1\r\n",
        "    X.on_u7 = X.on_u7.fillna(0)\r\n",
        "\r\n",
        "    # 用户优惠券消费次数\r\n",
        "    temp = online[online.Date_received.notnull() & online.Date.notnull()]\r\n",
        "    temp = temp.groupby('User_id').size().reset_index(name='on_u9')\r\n",
        "    X = pd.merge(X, temp, how='left', on='User_id')\r\n",
        "    X.on_u9 = X.on_u9.fillna(0)\r\n",
        "    \r\n",
        "    # 用户优惠券核销率\r\n",
        "    X['on_u10'] = X.on_u9 / X.on_u6\r\n",
        "    X = X.drop(['on_u1','on_u2','on_u4','on_u6','on_u9'],axis=1)\r\n",
        "    X.on_u10 = X.on_u10.fillna(sum(X.on_u10.fillna(0))/sum(X.on_u10.notnull()))\r\n",
        "    \r\n",
        "    print(len(X), len(X.columns))\r\n",
        "    print('----------')\r\n",
        "\r\n",
        "    return X"
      ],
      "execution_count": null,
      "outputs": []
    },
    {
      "cell_type": "code",
      "metadata": {
        "colab": {
          "base_uri": "https://localhost:8080/"
        },
        "id": "-qqKSV025T_r",
        "outputId": "f63b3225-c9d4-4f4a-d017-396f44efdbc7"
      },
      "source": [
        "dftest = get_offline_features(dftest,dfoff)\r\n",
        "dftest = get_online_features(dftest,dfon)"
      ],
      "execution_count": null,
      "outputs": [
        {
          "output_type": "stream",
          "text": [
            "113640 6\n",
            "Index(['User_id', 'Merchant_id', 'Coupon_id', 'Discount_rate', 'Distance',\n",
            "       'Date_received', 'u2', 'u3', 'u19', 'u1', 'u4', 'u5'],\n",
            "      dtype='object')\n",
            "113640 36\n",
            "113640 40\n",
            "----------\n"
          ],
          "name": "stdout"
        }
      ]
    },
    {
      "cell_type": "code",
      "metadata": {
        "id": "prikR8TXWrax",
        "colab": {
          "base_uri": "https://localhost:8080/"
        },
        "outputId": "b75f3b9e-d0a3-4355-9526-a87fdf35600a"
      },
      "source": [
        "def getWeekday(row):\r\n",
        "    if type(row)==type(0.0):\r\n",
        "        return np.nan\r\n",
        "    else:\r\n",
        "        return row.weekday() + 1\r\n",
        "\r\n",
        "dfoff['weekday'] = dfoff['Date_received'].apply(getWeekday)\r\n",
        "dftest['weekday'] = dftest['Date_received'].apply(getWeekday)\r\n",
        "\r\n",
        "# weekday_type :  周六和周日为1，其他为0\r\n",
        "dfoff['weekday_type'] = dfoff['weekday'].apply(lambda x : 1 if x in [6,7] else 0 )\r\n",
        "dftest['weekday_type'] = dftest['weekday'].apply(lambda x : 1 if x in [6,7] else 0 )\r\n",
        "\r\n",
        "# change weekday to one-hot encoding \r\n",
        "weekdaycols = ['weekday_' + str(i) for i in range(1,8)]\r\n",
        "tmpdf = pd.get_dummies(dfoff['weekday'].replace('nan', np.nan))\r\n",
        "tmpdf.columns = weekdaycols\r\n",
        "dfoff[weekdaycols] = tmpdf\r\n",
        "\r\n",
        "tmpdf = pd.get_dummies(dftest['weekday'].replace('nan', np.nan))\r\n",
        "tmpdf.columns = weekdaycols\r\n",
        "dftest[weekdaycols] = tmpdf\r\n",
        "\r\n",
        "\r\n",
        "dfoff = get_offline_features(dfoff,dfoff)\r\n",
        "\r\n",
        "# change discount type to one-hot encoding \r\n",
        "discounts = ['discount_' + str(i) for i in range(1,47)]\r\n",
        "tmpdf = pd.get_dummies(dfoff['discount_type'].replace('nan', np.nan))\r\n",
        "tmpdf.columns = discounts\r\n",
        "dfoff[discounts] = tmpdf\r\n",
        "\r\n",
        "tmpdf = pd.get_dummies(dftest['discount_type'].replace('nan', np.nan))\r\n",
        "tmpdf[0] = np.zeros(tmpdf.shape[0])\r\n",
        "tmpdf[4] = np.zeros(tmpdf.shape[0])\r\n",
        "tmpdf[10] = np.zeros(tmpdf.shape[0])\r\n",
        "tmpdf[42] = np.zeros(tmpdf.shape[0])\r\n",
        "tmpdf = tmpdf[sorted(tmpdf.columns)]\r\n",
        "tmpdf.columns = discounts\r\n",
        "dftest[discounts] = tmpdf\r\n",
        "\r\n",
        "def label(row):\r\n",
        "    if pd.isnull(row['Date_received']):\r\n",
        "        return -1\r\n",
        "    if pd.notnull(row['Date']):\r\n",
        "        td = row['Date'] - row['Date_received']\r\n",
        "        if td <= pd.Timedelta(15, 'D'):\r\n",
        "            return 1\r\n",
        "    return 0\r\n",
        "dfoff['label'] = dfoff.apply(label, axis = 1)\r\n",
        "print(\"end\")"
      ],
      "execution_count": null,
      "outputs": [
        {
          "output_type": "stream",
          "text": [
            "1754884 16\n",
            "Index(['User_id', 'Merchant_id', 'Coupon_id', 'Discount_rate', 'Distance',\n",
            "       'Date_received', 'Date', 'weekday', 'weekday_type', 'weekday_1',\n",
            "       'weekday_2', 'weekday_3', 'weekday_4', 'weekday_5', 'weekday_6',\n",
            "       'weekday_7', 'u2', 'u3', 'u19', 'u1', 'u4', 'u5'],\n",
            "      dtype='object')\n",
            "1754884 46\n",
            "end\n"
          ],
          "name": "stdout"
        }
      ]
    },
    {
      "cell_type": "code",
      "metadata": {
        "id": "tWKscaa8WtQn",
        "colab": {
          "base_uri": "https://localhost:8080/"
        },
        "outputId": "9c35574f-1016-43ef-8b64-1331b936a2dd"
      },
      "source": [
        "# data split\r\n",
        "print(\"-----data split------\")\r\n",
        "df = dfoff[dfoff['label'] != -1].copy()\r\n",
        "train = df[(df['Date_received'] < date(2016,5,16))].copy()\r\n",
        "valid = df[(df['Date_received'] >= date(2016,5,16)) & (df['Date_received'] <= date(2016,6,15))].copy()\r\n",
        "print(\"end\")"
      ],
      "execution_count": null,
      "outputs": [
        {
          "output_type": "stream",
          "text": [
            "-----data split------\n",
            "end\n"
          ],
          "name": "stdout"
        }
      ]
    },
    {
      "cell_type": "code",
      "metadata": {
        "colab": {
          "base_uri": "https://localhost:8080/"
        },
        "id": "mDUJVsax3QwJ",
        "outputId": "4693fd1d-ea0c-4bac-b586-f5f6795cd2fa"
      },
      "source": [
        "# for i in dfoff.columns:\r\n",
        "#     if sum(dfoff[i].isnull())!=0: print(i)\r\n",
        "dfoff.columns"
      ],
      "execution_count": null,
      "outputs": [
        {
          "output_type": "execute_result",
          "data": {
            "text/plain": [
              "Index(['User_id', 'Merchant_id', 'Coupon_id', 'Discount_rate', 'Distance',\n",
              "       'Date_received', 'Date', 'weekday', 'weekday_type', 'weekday_1',\n",
              "       'weekday_2', 'weekday_3', 'weekday_4', 'weekday_5', 'weekday_6',\n",
              "       'weekday_7', 'u2', 'u3', 'u19', 'u1', 'u4', 'u5', 'u25', 'u20', 'u47',\n",
              "       'u35', 'u36', 'u37', 'discount_type', 'm0', 'm1', 'm2', 'm3', 'm4',\n",
              "       'm16', 'm20', 'm21', 'c1', 'c2', 'c3', 'c6', 'c12', 'um1', 'um3', 'um4',\n",
              "       'o1', 'discount_1', 'discount_2', 'discount_3', 'discount_4',\n",
              "       'discount_5', 'discount_6', 'discount_7', 'discount_8', 'discount_9',\n",
              "       'discount_10', 'discount_11', 'discount_12', 'discount_13',\n",
              "       'discount_14', 'discount_15', 'discount_16', 'discount_17',\n",
              "       'discount_18', 'discount_19', 'discount_20', 'discount_21',\n",
              "       'discount_22', 'discount_23', 'discount_24', 'discount_25',\n",
              "       'discount_26', 'discount_27', 'discount_28', 'discount_29',\n",
              "       'discount_30', 'discount_31', 'discount_32', 'discount_33',\n",
              "       'discount_34', 'discount_35', 'discount_36', 'discount_37',\n",
              "       'discount_38', 'discount_39', 'discount_40', 'discount_41',\n",
              "       'discount_42', 'discount_43', 'discount_44', 'discount_45',\n",
              "       'discount_46', 'label'],\n",
              "      dtype='object')"
            ]
          },
          "metadata": {
            "tags": []
          },
          "execution_count": 30
        }
      ]
    },
    {
      "cell_type": "code",
      "metadata": {
        "id": "qE209QnsWu46",
        "colab": {
          "base_uri": "https://localhost:8080/"
        },
        "outputId": "cbf8324c-d994-4b5d-b26a-3a272ed7b8fa"
      },
      "source": [
        "# feature\r\n",
        "original_feature = ['u4', 'u20', 'u35', 'u36', 'u37',# onehot\r\n",
        "        'm4', 'm20', 'm21', 'c3', 'c6', 'c12', 'um4', 'o1', 'weekday_1',\r\n",
        "       'weekday_2', 'weekday_3', 'weekday_4', 'weekday_5', 'weekday_6',\r\n",
        "       'weekday_7', 'discount_1', 'discount_2', 'discount_3', 'discount_4',\r\n",
        "       'discount_5', 'discount_6', 'discount_7', 'discount_8', 'discount_9',\r\n",
        "       'discount_10', 'discount_11', 'discount_12', 'discount_13',\r\n",
        "       'discount_14', 'discount_15', 'discount_16', 'discount_17',\r\n",
        "       'discount_18', 'discount_19', 'discount_20', 'discount_21',\r\n",
        "       'discount_22', 'discount_23', 'discount_24', 'discount_25',\r\n",
        "       'discount_26', 'discount_27', 'discount_28', 'discount_29',\r\n",
        "       'discount_30', 'discount_31', 'discount_32', 'discount_33',\r\n",
        "       'discount_34', 'discount_35', 'discount_36', 'discount_37',\r\n",
        "       'discount_38', 'discount_39', 'discount_40', 'discount_41',\r\n",
        "       'discount_42', 'discount_43', 'discount_44', 'discount_45',\r\n",
        "       'discount_46']# remove 'Distance' temporarily\r\n",
        "train = train.fillna(-1)\r\n",
        "print(\"----train-----\")\r\n",
        "model = SGDClassifier(#lambda:\r\n",
        "    loss='log',\r\n",
        "    penalty='elasticnet',\r\n",
        "    fit_intercept=True,\r\n",
        "    max_iter=100,\r\n",
        "    shuffle=True,\r\n",
        "    alpha = 0.01,\r\n",
        "    l1_ratio = 0.01,\r\n",
        "    n_jobs=1,\r\n",
        "    class_weight=None\r\n",
        ")\r\n",
        "model.fit(train[original_feature], train['label'])"
      ],
      "execution_count": null,
      "outputs": [
        {
          "output_type": "stream",
          "text": [
            "----train-----\n"
          ],
          "name": "stdout"
        },
        {
          "output_type": "execute_result",
          "data": {
            "text/plain": [
              "SGDClassifier(alpha=0.01, average=False, class_weight=None,\n",
              "              early_stopping=False, epsilon=0.1, eta0=0.0, fit_intercept=True,\n",
              "              l1_ratio=0.01, learning_rate='optimal', loss='log', max_iter=100,\n",
              "              n_iter_no_change=5, n_jobs=1, penalty='elasticnet', power_t=0.5,\n",
              "              random_state=None, shuffle=True, tol=0.001,\n",
              "              validation_fraction=0.1, verbose=0, warm_start=False)"
            ]
          },
          "metadata": {
            "tags": []
          },
          "execution_count": 31
        }
      ]
    },
    {
      "cell_type": "code",
      "metadata": {
        "id": "qQFk7NDnWwb-",
        "colab": {
          "base_uri": "https://localhost:8080/",
          "height": 206
        },
        "outputId": "81f27c3b-b55a-484d-e2ea-bd50bbce5122"
      },
      "source": [
        "# test prediction for submission\r\n",
        "test = dftest.fillna(-1)\r\n",
        "y_test_pred = model.predict_proba(test[original_feature])\r\n",
        "dftest1 = dftest[['User_id','Coupon_id','Date_received']].copy()\r\n",
        "def date_to_str(date):\r\n",
        "    return date.strftime('%Y%m%d')\r\n",
        "dftest1.Date_received = dftest1.Date_received.apply(date_to_str)\r\n",
        "dftest1['label'] = y_test_pred[:,1]\r\n",
        "dftest1.to_csv('submit1.csv', index=False, header=False)\r\n",
        "dftest1.head()"
      ],
      "execution_count": null,
      "outputs": [
        {
          "output_type": "execute_result",
          "data": {
            "text/html": [
              "<div>\n",
              "<style scoped>\n",
              "    .dataframe tbody tr th:only-of-type {\n",
              "        vertical-align: middle;\n",
              "    }\n",
              "\n",
              "    .dataframe tbody tr th {\n",
              "        vertical-align: top;\n",
              "    }\n",
              "\n",
              "    .dataframe thead th {\n",
              "        text-align: right;\n",
              "    }\n",
              "</style>\n",
              "<table border=\"1\" class=\"dataframe\">\n",
              "  <thead>\n",
              "    <tr style=\"text-align: right;\">\n",
              "      <th></th>\n",
              "      <th>User_id</th>\n",
              "      <th>Coupon_id</th>\n",
              "      <th>Date_received</th>\n",
              "      <th>label</th>\n",
              "    </tr>\n",
              "  </thead>\n",
              "  <tbody>\n",
              "    <tr>\n",
              "      <th>0</th>\n",
              "      <td>4129537</td>\n",
              "      <td>9983</td>\n",
              "      <td>20160712</td>\n",
              "      <td>0.025095</td>\n",
              "    </tr>\n",
              "    <tr>\n",
              "      <th>1</th>\n",
              "      <td>6949378</td>\n",
              "      <td>3429</td>\n",
              "      <td>20160706</td>\n",
              "      <td>0.148146</td>\n",
              "    </tr>\n",
              "    <tr>\n",
              "      <th>2</th>\n",
              "      <td>2166529</td>\n",
              "      <td>6928</td>\n",
              "      <td>20160727</td>\n",
              "      <td>0.019970</td>\n",
              "    </tr>\n",
              "    <tr>\n",
              "      <th>3</th>\n",
              "      <td>2166529</td>\n",
              "      <td>1808</td>\n",
              "      <td>20160727</td>\n",
              "      <td>0.025548</td>\n",
              "    </tr>\n",
              "    <tr>\n",
              "      <th>4</th>\n",
              "      <td>6172162</td>\n",
              "      <td>6500</td>\n",
              "      <td>20160708</td>\n",
              "      <td>0.037940</td>\n",
              "    </tr>\n",
              "  </tbody>\n",
              "</table>\n",
              "</div>"
            ],
            "text/plain": [
              "   User_id  Coupon_id Date_received     label\n",
              "0  4129537       9983      20160712  0.025095\n",
              "1  6949378       3429      20160706  0.148146\n",
              "2  2166529       6928      20160727  0.019970\n",
              "3  2166529       1808      20160727  0.025548\n",
              "4  6172162       6500      20160708  0.037940"
            ]
          },
          "metadata": {
            "tags": []
          },
          "execution_count": 32
        }
      ]
    },
    {
      "cell_type": "code",
      "metadata": {
        "colab": {
          "base_uri": "https://localhost:8080/"
        },
        "id": "Ennyds37K6Bb",
        "outputId": "7a315030-32b0-4e5f-9170-3fa52b06355e"
      },
      "source": [
        "a = np.sum(dfoff[original_feature].isnull())\r\n",
        "a[a!=0]"
      ],
      "execution_count": null,
      "outputs": [
        {
          "output_type": "execute_result",
          "data": {
            "text/plain": [
              "Series([], dtype: int64)"
            ]
          },
          "metadata": {
            "tags": []
          },
          "execution_count": 33
        }
      ]
    },
    {
      "cell_type": "code",
      "metadata": {
        "id": "H1KZ8zEWXnyQ"
      },
      "source": [
        "# dftest1[dftest1.label>0.5]\r\n",
        "import statsmodels.api as sm\r\n",
        "model = sm.tsa.ARIMA(dfoff.label,order=(1,1,1),exog=dfoff[original_feature])\r\n",
        "res = model.fit()\r\n",
        "print(res.summary())"
      ],
      "execution_count": null,
      "outputs": []
    }
  ]
}